{
 "cells": [
  {
   "cell_type": "code",
   "execution_count": 1,
   "id": "d1a1b2ae-9489-4490-8787-6e0aff314c3e",
   "metadata": {},
   "outputs": [],
   "source": [
    "#Adding chain ID to PDB file\n",
    "#@ Author: Kartik Majila $$\n",
    "\n",
    "# The following script removes the chain ID from each entry in the PDB file\n",
    "\n",
    "import sys\n",
    "file = sys.argv[1]    #Enter the input PDB file name\n",
    "chain = sys.argv[2]   #Chain ID "
   ]
  },
  {
   "cell_type": "code",
   "execution_count": 2,
   "id": "a57f1bb0-9f14-4a71-8b7b-563b6980de19",
   "metadata": {},
   "outputs": [
    {
     "name": "stdout",
     "output_type": "stream",
     "text": [
      "722\n"
     ]
    }
   ],
   "source": [
    "with open (file,\"r\") as r:\n",
    "    pdb = r.readlines()\n"
   ]
  },
  {
   "cell_type": "code",
   "execution_count": 3,
   "id": "7076a6fa-c6a8-4fe5-9d8d-2bde6e8953b4",
   "metadata": {},
   "outputs": [],
   "source": [
    "w = open (\"mod_pdb\",\"w\")\n",
    "for i in range(len(pdb)):\n",
    "    if pdb[i].startswith(\"ATOM\") or pdb[i].startswith(\"TER\"):\n",
    "\n",
    "        #The chain ID is the 22nd character in each line\n",
    "        a = pdb[i][:21] + chain + pdb[i][22:]\n",
    "        w.writelines(a)\n",
    "    else:\n",
    "        continue\n",
    "w.close()\n"
   ]
  },
  {
   "cell_type": "code",
   "execution_count": null,
   "id": "19a4804a-0dac-423c-a4d6-3a932de526c4",
   "metadata": {},
   "outputs": [],
   "source": []
  }
 ],
 "metadata": {
  "kernelspec": {
   "display_name": "Python 3",
   "language": "python",
   "name": "python3"
  },
  "language_info": {
   "codemirror_mode": {
    "name": "ipython",
    "version": 3
   },
   "file_extension": ".py",
   "mimetype": "text/x-python",
   "name": "python",
   "nbconvert_exporter": "python",
   "pygments_lexer": "ipython3",
   "version": "3.8.8"
  }
 },
 "nbformat": 4,
 "nbformat_minor": 5
}
