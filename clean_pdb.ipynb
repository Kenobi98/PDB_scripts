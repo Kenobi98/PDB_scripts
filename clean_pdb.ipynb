{
 "cells": [
  {
   "cell_type": "code",
   "execution_count": 1,
   "id": "7ca41f4f-6de8-459a-81eb-05c554a9e241",
   "metadata": {},
   "outputs": [],
   "source": [
    "#Trimming a PDB file\n",
    "#@ Author: Kartik Majila $$\n",
    "\n",
    "#The following script will remove all the lines from the PDB file\n",
    "#except those starting with ATOM or TER i.e. the lines containing atomic coordinates.\n",
    "\n",
    "import sys\n",
    "file = sys.argv[1]   #Enter the input PDB file name"
   ]
  },
  {
   "cell_type": "code",
   "execution_count": 6,
   "id": "8089f043-ece8-4471-9889-7cc509058495",
   "metadata": {},
   "outputs": [
    {
     "name": "stdout",
     "output_type": "stream",
     "text": [
      "722\n"
     ]
    }
   ],
   "source": [
    "with open (file,\"r\") as r:\n",
    "    pdb = r.readlines()\n",
    "print(len(pdb))\n"
   ]
  },
  {
   "cell_type": "code",
   "execution_count": 8,
   "id": "51625ccc-0ef0-41c1-ad1c-06e0cc13fe9f",
   "metadata": {},
   "outputs": [
    {
     "name": "stdout",
     "output_type": "stream",
     "text": [
      "<_io.TextIOWrapper name='mod_pdb' mode='w' encoding='UTF-8'>\n"
     ]
    }
   ],
   "source": [
    "w = open (\"mod_pdb\",\"w\")\n",
    "for i in range(len(pdb)):\n",
    "    \n",
    "    #The lines containing the atomic coordinates begin with ATOM\n",
    "    #TER signifies the end of a chain of the protein\n",
    "    if pdb[i].startswith(\"ATOM\") or pdb[i].startswith(\"TER\"):\n",
    "        w.writelines(pdb[i])\n",
    "    else:\n",
    "        continue\n",
    "w.close()\n"
   ]
  },
  {
   "cell_type": "code",
   "execution_count": null,
   "id": "788b8b8a-4ba9-49ac-91a0-f60b168f72a3",
   "metadata": {},
   "outputs": [],
   "source": []
  }
 ],
 "metadata": {
  "kernelspec": {
   "display_name": "Python 3",
   "language": "python",
   "name": "python3"
  },
  "language_info": {
   "codemirror_mode": {
    "name": "ipython",
    "version": 3
   },
   "file_extension": ".py",
   "mimetype": "text/x-python",
   "name": "python",
   "nbconvert_exporter": "python",
   "pygments_lexer": "ipython3",
   "version": "3.8.8"
  }
 },
 "nbformat": 4,
 "nbformat_minor": 5
}
