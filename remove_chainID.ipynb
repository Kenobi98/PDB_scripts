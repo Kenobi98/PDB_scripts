{
 "cells": [
  {
   "cell_type": "code",
   "execution_count": 2,
   "id": "aa2ba319-cce0-496a-a36a-8aaa910ead02",
   "metadata": {},
   "outputs": [],
   "source": [
    "#Removing the chain ID\n",
    "#@ Author: Kartik Majila $$\n",
    "\n",
    "# The following script removes the chain ID from each entry in the PDB file\n",
    "\n",
    "import sys\n",
    "file = sys.argv[1]   #Enter the input PDB file name"
   ]
  },
  {
   "cell_type": "code",
   "execution_count": 3,
   "id": "8b2b7bb0-cafc-4698-be93-76aec789aabb",
   "metadata": {},
   "outputs": [],
   "source": [
    "with open (\"1pgb.pdb\",\"r\") as r:\n",
    "    pdb = r.readlines()\n",
    "    "
   ]
  },
  {
   "cell_type": "code",
   "execution_count": 4,
   "id": "ddefb3ea-91bb-41da-9699-6c35bfe395a6",
   "metadata": {},
   "outputs": [],
   "source": [
    "w = open (\"mod_pdb\",\"w\")\n",
    "for i in range(len(pdb)):\n",
    "    if pdb[i].startswith(\"ATOM\") or pdb[i].startswith(\"TER\"):\n",
    "\n",
    "        #The chain ID is the 22nd character in each line\n",
    "        a = pdb[i][:21] + \" \" + pdb[i][22:]\n",
    "        w.writelines(a)\n",
    "    else:\n",
    "        continue\n",
    "w.close()\n"
   ]
  },
  {
   "cell_type": "code",
   "execution_count": null,
   "id": "d923699a-6545-43fa-9d5a-f89f9fc05d85",
   "metadata": {},
   "outputs": [],
   "source": []
  }
 ],
 "metadata": {
  "kernelspec": {
   "display_name": "Python 3",
   "language": "python",
   "name": "python3"
  },
  "language_info": {
   "codemirror_mode": {
    "name": "ipython",
    "version": 3
   },
   "file_extension": ".py",
   "mimetype": "text/x-python",
   "name": "python",
   "nbconvert_exporter": "python",
   "pygments_lexer": "ipython3",
   "version": "3.8.8"
  }
 },
 "nbformat": 4,
 "nbformat_minor": 5
}
